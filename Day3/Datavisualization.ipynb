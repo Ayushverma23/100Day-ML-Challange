{
 "cells": [
  {
   "cell_type": "markdown",
   "metadata": {},
   "source": [
    "Data Visualization :\n",
    "\n",
    "    Data visualization is the graphical representation of information and data. By using visual elements like charts, graphs, and maps, data visualization tools provide an accessible way to see and understand trends, outliers, and patterns in data.\n",
    "\n"
   ]
  },
  {
   "cell_type": "markdown",
   "metadata": {},
   "source": [
    "Data visualization translates complex data sets into visual formats that are easier for the human brain to comprehend. "
   ]
  },
  {
   "cell_type": "markdown",
   "metadata": {},
   "source": [
    "There are many types of graphs that is used in datavisualization\n"
   ]
  },
  {
   "cell_type": "markdown",
   "metadata": {},
   "source": [
    "1) Bar chart\n",
    "2) Histogram\n",
    "3) Pie Chart\n",
    "4) Line Chart\n",
    "5) Scatter Plot\n",
    "6) Box Plot\n",
    "7) Violin Plot\n",
    "8) Heatmap\n",
    "9) Area Chart\n",
    "10) Bubble Chart\n",
    "11) Tree Map\n",
    "12) Network graph\n",
    "13) Radddar Chart\n",
    "14) Stacked bar\n",
    "15) Pyramid Graph\n",
    "16) Column Chart\n",
    "17) Funnel Chart\n",
    "18) Venn diagram\n",
    "19) FishBone Diagram\n",
    "20) Spider/raddar chart\n",
    "21) Gantt Chart\n",
    "22) Area Map\n"
   ]
  }
 ],
 "metadata": {
  "language_info": {
   "name": "python"
  }
 },
 "nbformat": 4,
 "nbformat_minor": 2
}
